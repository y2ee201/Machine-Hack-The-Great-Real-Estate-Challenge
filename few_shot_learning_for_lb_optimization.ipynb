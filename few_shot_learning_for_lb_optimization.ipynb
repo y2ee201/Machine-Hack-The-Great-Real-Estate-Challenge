{
 "cells": [
  {
   "cell_type": "markdown",
   "id": "827d5bee",
   "metadata": {},
   "source": [
    "## How to use few shot learning to optimize the competition leaderboard\n",
    "\n",
    "In the <a href='https://machinehack.com/hackathons/the_great_real_estate_data_challenge/overview'>Machine Hack The Great Real Estate Data Challenge</a> hosted by MachineHack the Target variable to be predicted is obscured. The target to be predicted is the categorical segment that the real estate listing falls into. But the training data doesn't have this column, Rather the nearest variable that acts as a proxy is \"Sale Price\". The organizers want a model that segments the listings into 4 segments which are hidden from the participants. \n",
    "\n",
    "This notebook shows how I used few shot learning and then optimization on top of the meta-learner model to grab 6th place with only 2 hours of effort!!! \n",
    "\n",
    "### Note: Overfitting is for competitions and not Production"
   ]
  },
  {
   "cell_type": "code",
   "execution_count": 1,
   "id": "a10bbf06",
   "metadata": {},
   "outputs": [],
   "source": [
    "import pandas as pd"
   ]
  },
  {
   "cell_type": "markdown",
   "id": "b51a7e75",
   "metadata": {},
   "source": [
    "### Here is the dataset for training and to make test predictions\n",
    "\n",
    "Final Target to be predicted is Segment. However we only have a proxy \"Sale Price\" and the segmentation logic is hidden from us.\n",
    "\n",
    "#### Segments: \n",
    "0: Premium Properties 💰🏰 <br>\n",
    "1: Valuable Properties 💎🏡 <br>\n",
    "2: Standard Properties 🏘️💸 <br>\n",
    "3: Budget Properties  🏠💵 <br>"
   ]
  },
  {
   "cell_type": "code",
   "execution_count": 3,
   "id": "c4023ea6",
   "metadata": {},
   "outputs": [
    {
     "name": "stdout",
     "output_type": "stream",
     "text": [
      "<class 'pandas.core.frame.DataFrame'>\n",
      "RangeIndex: 553952 entries, 0 to 553951\n",
      "Data columns (total 11 columns):\n",
      " #   Column             Non-Null Count   Dtype  \n",
      "---  ------             --------------   -----  \n",
      " 0   Year               553952 non-null  int64  \n",
      " 1   Date               553952 non-null  object \n",
      " 2   Locality           553952 non-null  object \n",
      " 3   Address            553952 non-null  object \n",
      " 4   Estimated Value    553952 non-null  float64\n",
      " 5   Sale Price         553952 non-null  float64\n",
      " 6   Property           553952 non-null  object \n",
      " 7   Residential        553952 non-null  object \n",
      " 8   num_rooms          553952 non-null  int64  \n",
      " 9   carpet_area        553952 non-null  int64  \n",
      " 10  property_tax_rate  553952 non-null  float64\n",
      "dtypes: float64(3), int64(3), object(5)\n",
      "memory usage: 46.5+ MB\n"
     ]
    }
   ],
   "source": [
    "train = pd.read_csv('./train.csv')\n",
    "train.info()"
   ]
  },
  {
   "cell_type": "code",
   "execution_count": 4,
   "id": "55361f94",
   "metadata": {},
   "outputs": [
    {
     "data": {
      "text/html": [
       "<div>\n",
       "<style scoped>\n",
       "    .dataframe tbody tr th:only-of-type {\n",
       "        vertical-align: middle;\n",
       "    }\n",
       "\n",
       "    .dataframe tbody tr th {\n",
       "        vertical-align: top;\n",
       "    }\n",
       "\n",
       "    .dataframe thead th {\n",
       "        text-align: right;\n",
       "    }\n",
       "</style>\n",
       "<table border=\"1\" class=\"dataframe\">\n",
       "  <thead>\n",
       "    <tr style=\"text-align: right;\">\n",
       "      <th></th>\n",
       "      <th>Year</th>\n",
       "      <th>Date</th>\n",
       "      <th>Locality</th>\n",
       "      <th>Address</th>\n",
       "      <th>Estimated Value</th>\n",
       "      <th>Sale Price</th>\n",
       "      <th>Property</th>\n",
       "      <th>Residential</th>\n",
       "      <th>num_rooms</th>\n",
       "      <th>carpet_area</th>\n",
       "      <th>property_tax_rate</th>\n",
       "    </tr>\n",
       "  </thead>\n",
       "  <tbody>\n",
       "    <tr>\n",
       "      <th>0</th>\n",
       "      <td>2009</td>\n",
       "      <td>2009-01-02</td>\n",
       "      <td>Greenwich</td>\n",
       "      <td>40 ETTL LN UT 24</td>\n",
       "      <td>711270.0</td>\n",
       "      <td>975000.0</td>\n",
       "      <td>Condo</td>\n",
       "      <td>Condominium</td>\n",
       "      <td>2</td>\n",
       "      <td>760</td>\n",
       "      <td>1.025953</td>\n",
       "    </tr>\n",
       "    <tr>\n",
       "      <th>1</th>\n",
       "      <td>2009</td>\n",
       "      <td>2009-01-02</td>\n",
       "      <td>East Hampton</td>\n",
       "      <td>18 BAUER RD</td>\n",
       "      <td>119970.0</td>\n",
       "      <td>189900.0</td>\n",
       "      <td>Single Family</td>\n",
       "      <td>Detached House</td>\n",
       "      <td>3</td>\n",
       "      <td>921</td>\n",
       "      <td>1.025953</td>\n",
       "    </tr>\n",
       "    <tr>\n",
       "      <th>2</th>\n",
       "      <td>2009</td>\n",
       "      <td>2009-01-02</td>\n",
       "      <td>Ridgefield</td>\n",
       "      <td>48 HIGH VALLEY RD.</td>\n",
       "      <td>494530.0</td>\n",
       "      <td>825000.0</td>\n",
       "      <td>Single Family</td>\n",
       "      <td>Detached House</td>\n",
       "      <td>3</td>\n",
       "      <td>982</td>\n",
       "      <td>1.025953</td>\n",
       "    </tr>\n",
       "    <tr>\n",
       "      <th>3</th>\n",
       "      <td>2009</td>\n",
       "      <td>2009-01-02</td>\n",
       "      <td>Old Lyme</td>\n",
       "      <td>56 MERIDEN RD</td>\n",
       "      <td>197600.0</td>\n",
       "      <td>450000.0</td>\n",
       "      <td>Single Family</td>\n",
       "      <td>Detached House</td>\n",
       "      <td>3</td>\n",
       "      <td>976</td>\n",
       "      <td>1.025953</td>\n",
       "    </tr>\n",
       "    <tr>\n",
       "      <th>4</th>\n",
       "      <td>2009</td>\n",
       "      <td>2009-01-02</td>\n",
       "      <td>Naugatuck</td>\n",
       "      <td>13 CELENTANO DR</td>\n",
       "      <td>105440.0</td>\n",
       "      <td>200000.0</td>\n",
       "      <td>Single Family</td>\n",
       "      <td>Detached House</td>\n",
       "      <td>3</td>\n",
       "      <td>947</td>\n",
       "      <td>1.025953</td>\n",
       "    </tr>\n",
       "  </tbody>\n",
       "</table>\n",
       "</div>"
      ],
      "text/plain": [
       "   Year        Date      Locality             Address  Estimated Value  \\\n",
       "0  2009  2009-01-02     Greenwich    40 ETTL LN UT 24         711270.0   \n",
       "1  2009  2009-01-02  East Hampton         18 BAUER RD         119970.0   \n",
       "2  2009  2009-01-02    Ridgefield  48 HIGH VALLEY RD.         494530.0   \n",
       "3  2009  2009-01-02      Old Lyme       56 MERIDEN RD         197600.0   \n",
       "4  2009  2009-01-02     Naugatuck     13 CELENTANO DR         105440.0   \n",
       "\n",
       "   Sale Price       Property     Residential  num_rooms  carpet_area  \\\n",
       "0    975000.0          Condo     Condominium          2          760   \n",
       "1    189900.0  Single Family  Detached House          3          921   \n",
       "2    825000.0  Single Family  Detached House          3          982   \n",
       "3    450000.0  Single Family  Detached House          3          976   \n",
       "4    200000.0  Single Family  Detached House          3          947   \n",
       "\n",
       "   property_tax_rate  \n",
       "0           1.025953  \n",
       "1           1.025953  \n",
       "2           1.025953  \n",
       "3           1.025953  \n",
       "4           1.025953  "
      ]
     },
     "execution_count": 4,
     "metadata": {},
     "output_type": "execute_result"
    }
   ],
   "source": [
    "train.head()"
   ]
  },
  {
   "cell_type": "code",
   "execution_count": 3,
   "id": "9733f13e",
   "metadata": {},
   "outputs": [
    {
     "name": "stdout",
     "output_type": "stream",
     "text": [
      "<class 'pandas.core.frame.DataFrame'>\n",
      "RangeIndex: 43954 entries, 0 to 43953\n",
      "Data columns (total 12 columns):\n",
      " #   Column             Non-Null Count  Dtype  \n",
      "---  ------             --------------  -----  \n",
      " 0   Year               43954 non-null  int64  \n",
      " 1   Date               43954 non-null  object \n",
      " 2   Locality           43954 non-null  object \n",
      " 3   Address            43954 non-null  object \n",
      " 4   Estimated Value    43954 non-null  float64\n",
      " 5   Sale Price         43954 non-null  int64  \n",
      " 6   Property           43954 non-null  object \n",
      " 7   Residential        43954 non-null  object \n",
      " 8   num_rooms          43954 non-null  int64  \n",
      " 9   carpet_area        43954 non-null  float64\n",
      " 10  property_tax_rate  43954 non-null  float64\n",
      " 11  Segment            43954 non-null  int64  \n",
      "dtypes: float64(3), int64(4), object(5)\n",
      "memory usage: 4.0+ MB\n"
     ]
    }
   ],
   "source": [
    "test = pd.read_csv('./test.csv')\n",
    "test.info()"
   ]
  },
  {
   "cell_type": "code",
   "execution_count": 6,
   "id": "0acde417",
   "metadata": {},
   "outputs": [
    {
     "data": {
      "text/plain": [
       "0    43954\n",
       "Name: Segment, dtype: int64"
      ]
     },
     "execution_count": 6,
     "metadata": {},
     "output_type": "execute_result"
    }
   ],
   "source": [
    "test.Segment.value_counts()"
   ]
  },
  {
   "cell_type": "code",
   "execution_count": 2,
   "id": "9b1641cb",
   "metadata": {},
   "outputs": [
    {
     "name": "stdout",
     "output_type": "stream",
     "text": [
      "<class 'pandas.core.frame.DataFrame'>\n",
      "RangeIndex: 43954 entries, 0 to 43953\n",
      "Data columns (total 1 columns):\n",
      " #   Column   Non-Null Count  Dtype\n",
      "---  ------   --------------  -----\n",
      " 0   Segment  43954 non-null  int64\n",
      "dtypes: int64(1)\n",
      "memory usage: 343.5 KB\n"
     ]
    }
   ],
   "source": [
    "submission = pd.read_csv('./submission.csv')\n",
    "submission.info()"
   ]
  },
  {
   "cell_type": "markdown",
   "id": "8765ecda",
   "metadata": {},
   "source": [
    "### Approach\n",
    "Two Step approach. Build a regression model and bin the Sale Price into segments.\n",
    "\n",
    "#### Step 1: Build a regression model for predicting Sale Price"
   ]
  },
  {
   "cell_type": "code",
   "execution_count": 23,
   "id": "8329ad43",
   "metadata": {},
   "outputs": [
    {
     "data": {
      "text/html": [
       "<div>\n",
       "<style scoped>\n",
       "    .dataframe tbody tr th:only-of-type {\n",
       "        vertical-align: middle;\n",
       "    }\n",
       "\n",
       "    .dataframe tbody tr th {\n",
       "        vertical-align: top;\n",
       "    }\n",
       "\n",
       "    .dataframe thead th {\n",
       "        text-align: right;\n",
       "    }\n",
       "</style>\n",
       "<table border=\"1\" class=\"dataframe\">\n",
       "  <thead>\n",
       "    <tr style=\"text-align: right;\">\n",
       "      <th></th>\n",
       "      <th>row_id</th>\n",
       "      <th>Prediction</th>\n",
       "    </tr>\n",
       "  </thead>\n",
       "  <tbody>\n",
       "    <tr>\n",
       "      <th>0</th>\n",
       "      <td>0</td>\n",
       "      <td>2.143392e+05</td>\n",
       "    </tr>\n",
       "    <tr>\n",
       "      <th>1</th>\n",
       "      <td>1</td>\n",
       "      <td>1.085608e+06</td>\n",
       "    </tr>\n",
       "    <tr>\n",
       "      <th>2</th>\n",
       "      <td>2</td>\n",
       "      <td>2.155879e+05</td>\n",
       "    </tr>\n",
       "    <tr>\n",
       "      <th>3</th>\n",
       "      <td>3</td>\n",
       "      <td>1.958318e+05</td>\n",
       "    </tr>\n",
       "    <tr>\n",
       "      <th>4</th>\n",
       "      <td>4</td>\n",
       "      <td>1.514168e+05</td>\n",
       "    </tr>\n",
       "  </tbody>\n",
       "</table>\n",
       "</div>"
      ],
      "text/plain": [
       "   row_id    Prediction\n",
       "0       0  2.143392e+05\n",
       "1       1  1.085608e+06\n",
       "2       2  2.155879e+05\n",
       "3       3  1.958318e+05\n",
       "4       4  1.514168e+05"
      ]
     },
     "execution_count": 23,
     "metadata": {},
     "output_type": "execute_result"
    }
   ],
   "source": [
    "preds = pd.read_csv('./preds_reco.csv')\n",
    "preds.head()"
   ]
  },
  {
   "cell_type": "code",
   "execution_count": 24,
   "id": "94fa5a77",
   "metadata": {},
   "outputs": [
    {
     "data": {
      "text/plain": [
       "count    4.395400e+04\n",
       "mean     3.943656e+05\n",
       "std      6.698036e+05\n",
       "min      1.000000e+04\n",
       "25%      1.734252e+05\n",
       "50%      2.323893e+05\n",
       "75%      3.790725e+05\n",
       "max      1.328608e+07\n",
       "Name: Prediction, dtype: float64"
      ]
     },
     "execution_count": 24,
     "metadata": {},
     "output_type": "execute_result"
    }
   ],
   "source": [
    "preds['Prediction'].describe()"
   ]
  },
  {
   "cell_type": "markdown",
   "id": "c294dc5f",
   "metadata": {},
   "source": [
    "#### Step 2: Create Bins\n",
    "\n",
    "Create a few samples with manual bins. Get results from Leaderboard. Use these samples to build a meta-learner and then run optimizer on the meta-learner to get the best result. Keep repeating till you're happy or tired!!!"
   ]
  },
  {
   "cell_type": "code",
   "execution_count": 127,
   "id": "3cfcd3a6",
   "metadata": {},
   "outputs": [],
   "source": [
    "# Manual Binning Strategies\n",
    "\n",
    "# bins = [0,1.678316e+05,2.266937e+05,3.561459e+05] score:0.26837\n",
    "# bins = [0,2.266937e+05,3.561459e+05,1.671817e+06] score:0.29188\n",
    "# bins = [0,2.266937e+05,3.561459e+05,1.671817e+06] score:0.30363\n",
    "# bins = [0,2.266937e+05,3.561459e+05,5e+06] score:0.30196\n",
    "# bins = [0,2.266937e+05,8e+05,1.671817e+06] score:0.25760\n",
    "# bins = [0,5e+04,3.561459e+05,1.671817e+06] score:0.23760\n",
    "# bins = [0,2.323893e+05,3.790725e+05,1.5e+06] score:0.30121\n",
    "# bins = [0,2e+05,3e+05,4e+06]  score:0.30576\n",
    "# bins = [0,3e+05,4e+05,5e+06] score:0.30545\n",
    "# bins = [0,1e+05,2e+05,3e+06] score:0.29703\n",
    "\n",
    "# Bins from Few Shot Learning\n",
    "\n",
    "# bins = [2.2730754153979382,2.7197252013039757e+05,2.773025577217706e+05, 4.473795183689448e+07] score:0.33298\n",
    "# bins = [2.2730754153979382,2.7197252013039757e+07,2.773025577217706e+05, 4.473795183689448e+07] score:0.32244\n",
    "# bins = [2.2730754153979382,2.7197252013039757e+05,2.773025577217706e+05, 4.473795183689448e+06] score:0.33313\n",
    "# bins = [5.941378123396479,3.6184591543456848e+05,1.3414414546277338e+05, 5.121145233903171e+06] score:0.33389\n",
    "# bins = [5.952248945744768,3.268839654777005e+05,3.6848146021179238e+05, 6.848476404133829e+06]  score:0.32153\n",
    "# bins = [5.952248945744768,3.268839654777005e+06,3.6848146021179238e+06, 6.848476404133829e+07] score:0.32267\n",
    "bins = [5.952248945744768,3.268839654777005e+05,3.6848146021179238e+05, 6.848476404133829e+07] score:0.32153\n",
    "\n",
    "def get_segments(num):\n",
    "    num = float(num)\n",
    "    if((num>bins[0]) & (num<bins[1])):\n",
    "        return \"0\"\n",
    "    elif((num>bins[1]) & (num<bins[2])):\n",
    "        return \"1\"\n",
    "    elif((num>bins[2]) & (num<bins[3])):\n",
    "        return \"2\"\n",
    "    else:\n",
    "        return \"3\""
   ]
  },
  {
   "cell_type": "code",
   "execution_count": 112,
   "id": "a96f9604",
   "metadata": {},
   "outputs": [
    {
     "name": "stderr",
     "output_type": "stream",
     "text": [
      "/var/folders/xv/pnj3fzrs66x7t0zlb1xbzl5c0005q7/T/ipykernel_34852/2514888991.py:21: DataConversionWarning:\n",
      "\n",
      "A column-vector y was passed when a 1d array was expected. Please change the shape of y to (n_samples,), for example using ravel().\n",
      "\n"
     ]
    },
    {
     "data": {
      "text/html": [
       "<style>#sk-container-id-7 {color: black;background-color: white;}#sk-container-id-7 pre{padding: 0;}#sk-container-id-7 div.sk-toggleable {background-color: white;}#sk-container-id-7 label.sk-toggleable__label {cursor: pointer;display: block;width: 100%;margin-bottom: 0;padding: 0.3em;box-sizing: border-box;text-align: center;}#sk-container-id-7 label.sk-toggleable__label-arrow:before {content: \"▸\";float: left;margin-right: 0.25em;color: #696969;}#sk-container-id-7 label.sk-toggleable__label-arrow:hover:before {color: black;}#sk-container-id-7 div.sk-estimator:hover label.sk-toggleable__label-arrow:before {color: black;}#sk-container-id-7 div.sk-toggleable__content {max-height: 0;max-width: 0;overflow: hidden;text-align: left;background-color: #f0f8ff;}#sk-container-id-7 div.sk-toggleable__content pre {margin: 0.2em;color: black;border-radius: 0.25em;background-color: #f0f8ff;}#sk-container-id-7 input.sk-toggleable__control:checked~div.sk-toggleable__content {max-height: 200px;max-width: 100%;overflow: auto;}#sk-container-id-7 input.sk-toggleable__control:checked~label.sk-toggleable__label-arrow:before {content: \"▾\";}#sk-container-id-7 div.sk-estimator input.sk-toggleable__control:checked~label.sk-toggleable__label {background-color: #d4ebff;}#sk-container-id-7 div.sk-label input.sk-toggleable__control:checked~label.sk-toggleable__label {background-color: #d4ebff;}#sk-container-id-7 input.sk-hidden--visually {border: 0;clip: rect(1px 1px 1px 1px);clip: rect(1px, 1px, 1px, 1px);height: 1px;margin: -1px;overflow: hidden;padding: 0;position: absolute;width: 1px;}#sk-container-id-7 div.sk-estimator {font-family: monospace;background-color: #f0f8ff;border: 1px dotted black;border-radius: 0.25em;box-sizing: border-box;margin-bottom: 0.5em;}#sk-container-id-7 div.sk-estimator:hover {background-color: #d4ebff;}#sk-container-id-7 div.sk-parallel-item::after {content: \"\";width: 100%;border-bottom: 1px solid gray;flex-grow: 1;}#sk-container-id-7 div.sk-label:hover label.sk-toggleable__label {background-color: #d4ebff;}#sk-container-id-7 div.sk-serial::before {content: \"\";position: absolute;border-left: 1px solid gray;box-sizing: border-box;top: 0;bottom: 0;left: 50%;z-index: 0;}#sk-container-id-7 div.sk-serial {display: flex;flex-direction: column;align-items: center;background-color: white;padding-right: 0.2em;padding-left: 0.2em;position: relative;}#sk-container-id-7 div.sk-item {position: relative;z-index: 1;}#sk-container-id-7 div.sk-parallel {display: flex;align-items: stretch;justify-content: center;background-color: white;position: relative;}#sk-container-id-7 div.sk-item::before, #sk-container-id-7 div.sk-parallel-item::before {content: \"\";position: absolute;border-left: 1px solid gray;box-sizing: border-box;top: 0;bottom: 0;left: 50%;z-index: -1;}#sk-container-id-7 div.sk-parallel-item {display: flex;flex-direction: column;z-index: 1;position: relative;background-color: white;}#sk-container-id-7 div.sk-parallel-item:first-child::after {align-self: flex-end;width: 50%;}#sk-container-id-7 div.sk-parallel-item:last-child::after {align-self: flex-start;width: 50%;}#sk-container-id-7 div.sk-parallel-item:only-child::after {width: 0;}#sk-container-id-7 div.sk-dashed-wrapped {border: 1px dashed gray;margin: 0 0.4em 0.5em 0.4em;box-sizing: border-box;padding-bottom: 0.4em;background-color: white;}#sk-container-id-7 div.sk-label label {font-family: monospace;font-weight: bold;display: inline-block;line-height: 1.2em;}#sk-container-id-7 div.sk-label-container {text-align: center;}#sk-container-id-7 div.sk-container {/* jupyter's `normalize.less` sets `[hidden] { display: none; }` but bootstrap.min.css set `[hidden] { display: none !important; }` so we also need the `!important` here to be able to override the default hidden behavior on the sphinx rendered scikit-learn.org. See: https://github.com/scikit-learn/scikit-learn/issues/21755 */display: inline-block !important;position: relative;}#sk-container-id-7 div.sk-text-repr-fallback {display: none;}</style><div id=\"sk-container-id-7\" class=\"sk-top-container\"><div class=\"sk-text-repr-fallback\"><pre>RandomForestRegressor(max_depth=10, n_estimators=15, random_state=0)</pre><b>In a Jupyter environment, please rerun this cell to show the HTML representation or trust the notebook. <br />On GitHub, the HTML representation is unable to render, please try loading this page with nbviewer.org.</b></div><div class=\"sk-container\" hidden><div class=\"sk-item\"><div class=\"sk-estimator sk-toggleable\"><input class=\"sk-toggleable__control sk-hidden--visually\" id=\"sk-estimator-id-7\" type=\"checkbox\" checked><label for=\"sk-estimator-id-7\" class=\"sk-toggleable__label sk-toggleable__label-arrow\">RandomForestRegressor</label><div class=\"sk-toggleable__content\"><pre>RandomForestRegressor(max_depth=10, n_estimators=15, random_state=0)</pre></div></div></div></div></div>"
      ],
      "text/plain": [
       "RandomForestRegressor(max_depth=10, n_estimators=15, random_state=0)"
      ]
     },
     "execution_count": 112,
     "metadata": {},
     "output_type": "execute_result"
    }
   ],
   "source": [
    "data = pd.DataFrame([[0,1.678316,5,2.266937,5,3.561459,5,0.26837],\n",
    "[0,2.266937,5,3.561459,5,1.671817,6,0.29188],\n",
    "[0,2.266937,5,3.561459,5,1.671817,6,0.30363],\n",
    "[0,2.266937,5,3.561459,5,5,6,0.30196],\n",
    "[0,2.266937,5,8,5,1.671817,6,0.25760],\n",
    "[0,5,4,3.561459,5,1.671817,6,0.23760],\n",
    "[0,2.323893,5,3.790725,5,1.5,6,0.30121],\n",
    "[0,2,5,3,5,4,6,0.30576],\n",
    "[0,3,5,4,5,5,6,0.30545],\n",
    "[0,1,5,2,5,3,6,0.29703],\n",
    "[2.2730754153979382,2.7197252013039757,5,2.773025577217706,5, 4.473795183689448,7,0.33298],\n",
    "[2.2730754153979382,2.7197252013039757,7,2.773025577217706,5, 4.473795183689448,7,0.32244],\n",
    "[2.2730754153979382,2.7197252013039757,5,2.773025577217706,5, 4.473795183689448,6,0.33313],\n",
    "[5.941378123396479,3.6184591543456848,5,1.3414414546277338,7, 5.121145233903171,9,0.29491],\n",
    "[5.941378123396479,3.6184591543456848,5,1.3414414546277338,5, 5.121145233903171,6,0.33389],\n",
    "],columns=['m1','m2','p2','m3','p3','m4','p4','score'])\n",
    "data\n",
    "\n",
    "from sklearn.ensemble import RandomForestRegressor\n",
    "regr = RandomForestRegressor(n_estimators=15, max_depth=10, random_state=0)\n",
    "regr.fit(data[['m1', 'm2', 'p2', 'm3', 'p3', 'm4', 'p4']], data[['score']])"
   ]
  },
  {
   "cell_type": "code",
   "execution_count": 113,
   "id": "4b106291",
   "metadata": {},
   "outputs": [
    {
     "data": {
      "text/html": [
       "<div>\n",
       "<style scoped>\n",
       "    .dataframe tbody tr th:only-of-type {\n",
       "        vertical-align: middle;\n",
       "    }\n",
       "\n",
       "    .dataframe tbody tr th {\n",
       "        vertical-align: top;\n",
       "    }\n",
       "\n",
       "    .dataframe thead th {\n",
       "        text-align: right;\n",
       "    }\n",
       "</style>\n",
       "<table border=\"1\" class=\"dataframe\">\n",
       "  <thead>\n",
       "    <tr style=\"text-align: right;\">\n",
       "      <th></th>\n",
       "      <th>features</th>\n",
       "      <th>importance</th>\n",
       "    </tr>\n",
       "  </thead>\n",
       "  <tbody>\n",
       "    <tr>\n",
       "      <th>1</th>\n",
       "      <td>m2</td>\n",
       "      <td>0.215998</td>\n",
       "    </tr>\n",
       "    <tr>\n",
       "      <th>0</th>\n",
       "      <td>m1</td>\n",
       "      <td>0.211127</td>\n",
       "    </tr>\n",
       "    <tr>\n",
       "      <th>5</th>\n",
       "      <td>m4</td>\n",
       "      <td>0.197950</td>\n",
       "    </tr>\n",
       "    <tr>\n",
       "      <th>6</th>\n",
       "      <td>p4</td>\n",
       "      <td>0.127606</td>\n",
       "    </tr>\n",
       "    <tr>\n",
       "      <th>2</th>\n",
       "      <td>p2</td>\n",
       "      <td>0.115756</td>\n",
       "    </tr>\n",
       "    <tr>\n",
       "      <th>3</th>\n",
       "      <td>m3</td>\n",
       "      <td>0.094392</td>\n",
       "    </tr>\n",
       "    <tr>\n",
       "      <th>4</th>\n",
       "      <td>p3</td>\n",
       "      <td>0.037172</td>\n",
       "    </tr>\n",
       "  </tbody>\n",
       "</table>\n",
       "</div>"
      ],
      "text/plain": [
       "  features  importance\n",
       "1       m2    0.215998\n",
       "0       m1    0.211127\n",
       "5       m4    0.197950\n",
       "6       p4    0.127606\n",
       "2       p2    0.115756\n",
       "3       m3    0.094392\n",
       "4       p3    0.037172"
      ]
     },
     "execution_count": 113,
     "metadata": {},
     "output_type": "execute_result"
    }
   ],
   "source": [
    "fts = pd.DataFrame({'features':regr.feature_names_in_, 'importance':regr.feature_importances_})\n",
    "fts.sort_values(['importance'], ascending=False)"
   ]
  },
  {
   "cell_type": "markdown",
   "id": "0dcf0a1f",
   "metadata": {},
   "source": [
    "#### Optimizer Step to model relationship between Leaderboard score and our bins. \n",
    "\n",
    "This will try to model the latent relationship that is hidden from the participants. One good thing about the competition is that it allows infinite submissions, which would allow more sample generation."
   ]
  },
  {
   "cell_type": "code",
   "execution_count": 114,
   "id": "84c85278",
   "metadata": {},
   "outputs": [
    {
     "name": "stdout",
     "output_type": "stream",
     "text": [
      "100%|█████████████████████████████████████████████████████████████████████████████████████████████████████████████████████████████| 1000/1000 [00:29<00:00, 33.53trial/s, best loss: -0.33352533333333334]\n"
     ]
    }
   ],
   "source": [
    "from hyperopt import hp, Trials, fmin, STATUS_OK, tpe\n",
    "\n",
    "space = {\n",
    "    \"m1\": hp.uniform(\"m1\", 0, 10),\n",
    "    \"m2\": hp.uniform(\"m2\", 0, 10),\n",
    "    \"p2\": hp.uniform(\"p2\", 0, 10),\n",
    "    \"m3\": hp.uniform(\"m3\", 0, 10),\n",
    "    \"p3\": hp.uniform(\"p3\", 0, 10),\n",
    "    \"m4\": hp.uniform(\"m4\", 0, 10),\n",
    "    \"p4\": hp.uniform(\"p4\", 0, 10),\n",
    "}\n",
    "\n",
    "def objective(params):\n",
    "    expt = pd.DataFrame([[params['m1'],params['m2'],\n",
    "                          params['p2'],params['m3'],\n",
    "                          params['p3'],params['m4'],\n",
    "                          params['p4']]], columns=['m1', 'm2', 'p2', 'm3',\n",
    "                                                   'p3', 'm4', 'p4'])\n",
    "    \n",
    "    pred = regr.predict(expt)\n",
    "    return {\"loss\": -1*pred, \"status\": STATUS_OK}\n",
    "\n",
    "trials = Trials()\n",
    "\n",
    "best = fmin(\n",
    "    fn=objective,\n",
    "    space = space, \n",
    "    algo=tpe.suggest, \n",
    "    max_evals=1000, \n",
    "    trials=trials\n",
    ")"
   ]
  },
  {
   "cell_type": "code",
   "execution_count": 115,
   "id": "aadef916",
   "metadata": {},
   "outputs": [
    {
     "data": {
      "text/plain": [
       "-0.33352533333333334"
      ]
     },
     "execution_count": 115,
     "metadata": {},
     "output_type": "execute_result"
    }
   ],
   "source": [
    "min([trial['loss'] for trial in trials.results])"
   ]
  },
  {
   "cell_type": "markdown",
   "id": "623f8357",
   "metadata": {},
   "source": [
    "#### Best combination"
   ]
  },
  {
   "cell_type": "code",
   "execution_count": 116,
   "id": "954ea2ff",
   "metadata": {},
   "outputs": [
    {
     "data": {
      "text/plain": [
       "{'m1': 5.952248945744768,\n",
       " 'm2': 3.268839654777005,\n",
       " 'm3': 3.6848146021179238,\n",
       " 'm4': 6.848476404133829,\n",
       " 'p2': 5.774031165722173,\n",
       " 'p3': 5.733181407133727,\n",
       " 'p4': 6.201172216640995}"
      ]
     },
     "execution_count": 116,
     "metadata": {},
     "output_type": "execute_result"
    }
   ],
   "source": [
    "best"
   ]
  },
  {
   "cell_type": "code",
   "execution_count": 128,
   "id": "d5b436bd",
   "metadata": {},
   "outputs": [
    {
     "data": {
      "text/html": [
       "<div>\n",
       "<style scoped>\n",
       "    .dataframe tbody tr th:only-of-type {\n",
       "        vertical-align: middle;\n",
       "    }\n",
       "\n",
       "    .dataframe tbody tr th {\n",
       "        vertical-align: top;\n",
       "    }\n",
       "\n",
       "    .dataframe thead th {\n",
       "        text-align: right;\n",
       "    }\n",
       "</style>\n",
       "<table border=\"1\" class=\"dataframe\">\n",
       "  <thead>\n",
       "    <tr style=\"text-align: right;\">\n",
       "      <th></th>\n",
       "      <th>row_id</th>\n",
       "      <th>Prediction</th>\n",
       "      <th>Segment</th>\n",
       "    </tr>\n",
       "  </thead>\n",
       "  <tbody>\n",
       "    <tr>\n",
       "      <th>0</th>\n",
       "      <td>0</td>\n",
       "      <td>2.143392e+05</td>\n",
       "      <td>0</td>\n",
       "    </tr>\n",
       "    <tr>\n",
       "      <th>1</th>\n",
       "      <td>1</td>\n",
       "      <td>1.085608e+06</td>\n",
       "      <td>2</td>\n",
       "    </tr>\n",
       "    <tr>\n",
       "      <th>2</th>\n",
       "      <td>2</td>\n",
       "      <td>2.155879e+05</td>\n",
       "      <td>0</td>\n",
       "    </tr>\n",
       "    <tr>\n",
       "      <th>3</th>\n",
       "      <td>3</td>\n",
       "      <td>1.958318e+05</td>\n",
       "      <td>0</td>\n",
       "    </tr>\n",
       "    <tr>\n",
       "      <th>4</th>\n",
       "      <td>4</td>\n",
       "      <td>1.514168e+05</td>\n",
       "      <td>0</td>\n",
       "    </tr>\n",
       "  </tbody>\n",
       "</table>\n",
       "</div>"
      ],
      "text/plain": [
       "   row_id    Prediction Segment\n",
       "0       0  2.143392e+05       0\n",
       "1       1  1.085608e+06       2\n",
       "2       2  2.155879e+05       0\n",
       "3       3  1.958318e+05       0\n",
       "4       4  1.514168e+05       0"
      ]
     },
     "execution_count": 128,
     "metadata": {},
     "output_type": "execute_result"
    }
   ],
   "source": [
    "preds['Segment'] = preds['Prediction'].apply(get_segments)\n",
    "preds.head()"
   ]
  },
  {
   "cell_type": "markdown",
   "id": "0bc81496",
   "metadata": {},
   "source": [
    "### Submission"
   ]
  },
  {
   "cell_type": "code",
   "execution_count": 129,
   "id": "c355937a",
   "metadata": {},
   "outputs": [],
   "source": [
    "preds[['Segment']].to_csv('./submission_19.csv', index=False)"
   ]
  },
  {
   "cell_type": "code",
   "execution_count": null,
   "id": "a2795e66",
   "metadata": {},
   "outputs": [],
   "source": []
  }
 ],
 "metadata": {
  "kernelspec": {
   "display_name": "Python 3 (ipykernel)",
   "language": "python",
   "name": "python3"
  },
  "language_info": {
   "codemirror_mode": {
    "name": "ipython",
    "version": 3
   },
   "file_extension": ".py",
   "mimetype": "text/x-python",
   "name": "python",
   "nbconvert_exporter": "python",
   "pygments_lexer": "ipython3",
   "version": "3.8.15"
  }
 },
 "nbformat": 4,
 "nbformat_minor": 5
}
